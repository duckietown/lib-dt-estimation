{
 "cells": [
  {
   "cell_type": "markdown",
   "metadata": {
    "collapsed": false
   },
   "source": [
    "# Tutorial notebooks\n",
    "\n"
   ]
  },
  {
   "cell_type": "code",
   "execution_count": 1,
   "metadata": {
    "pycharm": {
     "name": "#%%\n"
    }
   },
   "outputs": [
    {
     "ename": "ModuleNotFoundError",
     "evalue": "No module named 'dt_state_estimation'",
     "output_type": "error",
     "traceback": [
      "\u001B[0;31m---------------------------------------------------------------------------\u001B[0m",
      "\u001B[0;31mModuleNotFoundError\u001B[0m                       Traceback (most recent call last)",
      "Input \u001B[0;32mIn [1]\u001B[0m, in \u001B[0;36m<cell line: 6>\u001B[0;34m()\u001B[0m\n\u001B[1;32m      2\u001B[0m \u001B[38;5;28;01mimport\u001B[39;00m \u001B[38;5;21;01mmatplotlib\u001B[39;00m\u001B[38;5;21;01m.\u001B[39;00m\u001B[38;5;21;01mpyplot\u001B[39;00m \u001B[38;5;28;01mas\u001B[39;00m \u001B[38;5;21;01mplt\u001B[39;00m\n\u001B[1;32m      4\u001B[0m \u001B[38;5;28;01mfrom\u001B[39;00m \u001B[38;5;21;01mdt_computer_vision\u001B[39;00m\u001B[38;5;21;01m.\u001B[39;00m\u001B[38;5;21;01mcamera\u001B[39;00m \u001B[38;5;28;01mimport\u001B[39;00m CameraModel\n\u001B[0;32m----> 6\u001B[0m \u001B[38;5;28;01mfrom\u001B[39;00m \u001B[38;5;21;01mdt_state_estimation\u001B[39;00m\u001B[38;5;21;01m.\u001B[39;00m\u001B[38;5;21;01mlane_filter\u001B[39;00m \u001B[38;5;28;01mimport\u001B[39;00m LaneFilterHistogram\n\u001B[1;32m      7\u001B[0m \u001B[38;5;28;01mfrom\u001B[39;00m \u001B[38;5;21;01mdt_state_estimation\u001B[39;00m\u001B[38;5;21;01m.\u001B[39;00m\u001B[38;5;21;01mlane_filter\u001B[39;00m\u001B[38;5;21;01m.\u001B[39;00m\u001B[38;5;21;01mtypes\u001B[39;00m \u001B[38;5;28;01mimport\u001B[39;00m Segment, SegmentPoint, SegmentColor\n\u001B[1;32m      9\u001B[0m \u001B[38;5;28;01mfrom\u001B[39;00m \u001B[38;5;21;01mdt_state_estimation\u001B[39;00m\u001B[38;5;21;01m.\u001B[39;00m\u001B[38;5;21;01mlane_filter\u001B[39;00m\u001B[38;5;21;01m.\u001B[39;00m\u001B[38;5;21;01mrendering\u001B[39;00m \u001B[38;5;28;01mimport\u001B[39;00m plot_belief\n",
      "\u001B[0;31mModuleNotFoundError\u001B[0m: No module named 'dt_state_estimation'"
     ]
    }
   ],
   "source": [
    "import cv2\n",
    "import matplotlib.pyplot as plt\n",
    "\n",
    "from dt_computer_vision.camera import CameraModel\n",
    "\n",
    "from dt_state_estimation.lane_filter import LaneFilterHistogram\n",
    "from dt_state_estimation.lane_filter.types import Segment, SegmentPoint, SegmentColor\n",
    "\n",
    "from dt_state_estimation.lane_filter.rendering import plot_belief\n",
    "\n",
    "# constants\n",
    "segment_length: float = 0.05\n",
    "lane_width: float = 0.225\n",
    "half_lane: float = lane_width * 0.5\n",
    "distance: float = 0.0\n",
    "\n",
    "# segments\n",
    "lateral_shift: float = 0.0\n",
    "rotation: float = 0.0\n",
    "\n",
    "# create filter\n",
    "filter = LaneFilterHistogram()\n",
    "\n",
    "# construct two segments\n",
    "white_segment = Segment(\n",
    "    points=[\n",
    "        SegmentPoint(distance, lateral_shift - half_lane),\n",
    "        SegmentPoint(distance + segment_length, lateral_shift - half_lane),\n",
    "    ],\n",
    "    color=SegmentColor.WHITE\n",
    ")\n",
    "yellow_segment = Segment(\n",
    "    points=[\n",
    "        SegmentPoint(distance + segment_length, half_lane + lateral_shift),\n",
    "        SegmentPoint(distance, half_lane + lateral_shift),\n",
    "    ],\n",
    "    color=SegmentColor.YELLOW\n",
    ")\n",
    "\n",
    "# apply update\n",
    "filter.update([white_segment, yellow_segment])\n",
    "d_hat, phi_hat = filter.get_estimate()\n",
    "\n",
    "# plot belief\n",
    "bgr = plot_belief(filter, filter.belief, phi_hat, d_hat)\n",
    "rgb = cv2.cvtColor(bgr, cv2.COLOR_BGR2RGB)\n",
    "plt.imshow(rgb)"
   ]
  },
  {
   "cell_type": "code",
   "execution_count": null,
   "outputs": [],
   "source": [],
   "metadata": {
    "collapsed": false,
    "pycharm": {
     "name": "#%%\n"
    }
   }
  }
 ],
 "metadata": {
  "celltoolbar": "Raw Cell Format",
  "kernelspec": {
   "display_name": "Python 3",
   "language": "python",
   "name": "python3"
  },
  "language_info": {
   "codemirror_mode": {
    "name": "ipython",
    "version": 3
   },
   "file_extension": ".py",
   "mimetype": "text/x-python",
   "name": "python",
   "nbconvert_exporter": "python",
   "pygments_lexer": "ipython3",
   "version": "3.7.2"
  }
 },
 "nbformat": 4,
 "nbformat_minor": 2
}